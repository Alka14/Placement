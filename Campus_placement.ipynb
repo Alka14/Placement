{
 "cells": [
  {
   "cell_type": "markdown",
   "metadata": {},
   "source": [
    "This data set consists of Placement data of students in a campus. It includes secondary and higher secondary school percentage and specialization. It also includes degree specialization, type and Work experience and salary offers to the placed students"
   ]
  },
  {
   "cell_type": "markdown",
   "metadata": {},
   "source": [
    "## Importing Libraries"
   ]
  },
  {
   "cell_type": "code",
   "execution_count": 1,
   "metadata": {},
   "outputs": [],
   "source": [
    "import numpy as np\n",
    "import pandas as pd\n",
    "import matplotlib.pyplot as plt\n",
    "import seaborn as sns\n",
    "import scipy.stats as stats"
   ]
  },
  {
   "cell_type": "markdown",
   "metadata": {},
   "source": [
    "## Reading Dataset "
   ]
  },
  {
   "cell_type": "code",
   "execution_count": 2,
   "metadata": {},
   "outputs": [
    {
     "data": {
      "text/html": [
       "<div>\n",
       "<style scoped>\n",
       "    .dataframe tbody tr th:only-of-type {\n",
       "        vertical-align: middle;\n",
       "    }\n",
       "\n",
       "    .dataframe tbody tr th {\n",
       "        vertical-align: top;\n",
       "    }\n",
       "\n",
       "    .dataframe thead th {\n",
       "        text-align: right;\n",
       "    }\n",
       "</style>\n",
       "<table border=\"1\" class=\"dataframe\">\n",
       "  <thead>\n",
       "    <tr style=\"text-align: right;\">\n",
       "      <th></th>\n",
       "      <th>sl_no</th>\n",
       "      <th>gender</th>\n",
       "      <th>ssc_p</th>\n",
       "      <th>ssc_b</th>\n",
       "      <th>hsc_p</th>\n",
       "      <th>hsc_b</th>\n",
       "      <th>hsc_s</th>\n",
       "      <th>degree_p</th>\n",
       "      <th>degree_t</th>\n",
       "      <th>workex</th>\n",
       "      <th>etest_p</th>\n",
       "      <th>specialisation</th>\n",
       "      <th>mba_p</th>\n",
       "      <th>status</th>\n",
       "      <th>salary</th>\n",
       "    </tr>\n",
       "  </thead>\n",
       "  <tbody>\n",
       "    <tr>\n",
       "      <td>0</td>\n",
       "      <td>1</td>\n",
       "      <td>M</td>\n",
       "      <td>67.00</td>\n",
       "      <td>Others</td>\n",
       "      <td>91.00</td>\n",
       "      <td>Others</td>\n",
       "      <td>Commerce</td>\n",
       "      <td>58.00</td>\n",
       "      <td>Sci&amp;Tech</td>\n",
       "      <td>No</td>\n",
       "      <td>55.0</td>\n",
       "      <td>Mkt&amp;HR</td>\n",
       "      <td>58.80</td>\n",
       "      <td>Placed</td>\n",
       "      <td>270000.0</td>\n",
       "    </tr>\n",
       "    <tr>\n",
       "      <td>1</td>\n",
       "      <td>2</td>\n",
       "      <td>M</td>\n",
       "      <td>79.33</td>\n",
       "      <td>Central</td>\n",
       "      <td>78.33</td>\n",
       "      <td>Others</td>\n",
       "      <td>Science</td>\n",
       "      <td>77.48</td>\n",
       "      <td>Sci&amp;Tech</td>\n",
       "      <td>Yes</td>\n",
       "      <td>86.5</td>\n",
       "      <td>Mkt&amp;Fin</td>\n",
       "      <td>66.28</td>\n",
       "      <td>Placed</td>\n",
       "      <td>200000.0</td>\n",
       "    </tr>\n",
       "    <tr>\n",
       "      <td>2</td>\n",
       "      <td>3</td>\n",
       "      <td>M</td>\n",
       "      <td>65.00</td>\n",
       "      <td>Central</td>\n",
       "      <td>68.00</td>\n",
       "      <td>Central</td>\n",
       "      <td>Arts</td>\n",
       "      <td>64.00</td>\n",
       "      <td>Comm&amp;Mgmt</td>\n",
       "      <td>No</td>\n",
       "      <td>75.0</td>\n",
       "      <td>Mkt&amp;Fin</td>\n",
       "      <td>57.80</td>\n",
       "      <td>Placed</td>\n",
       "      <td>250000.0</td>\n",
       "    </tr>\n",
       "    <tr>\n",
       "      <td>3</td>\n",
       "      <td>4</td>\n",
       "      <td>M</td>\n",
       "      <td>56.00</td>\n",
       "      <td>Central</td>\n",
       "      <td>52.00</td>\n",
       "      <td>Central</td>\n",
       "      <td>Science</td>\n",
       "      <td>52.00</td>\n",
       "      <td>Sci&amp;Tech</td>\n",
       "      <td>No</td>\n",
       "      <td>66.0</td>\n",
       "      <td>Mkt&amp;HR</td>\n",
       "      <td>59.43</td>\n",
       "      <td>Not Placed</td>\n",
       "      <td>NaN</td>\n",
       "    </tr>\n",
       "    <tr>\n",
       "      <td>4</td>\n",
       "      <td>5</td>\n",
       "      <td>M</td>\n",
       "      <td>85.80</td>\n",
       "      <td>Central</td>\n",
       "      <td>73.60</td>\n",
       "      <td>Central</td>\n",
       "      <td>Commerce</td>\n",
       "      <td>73.30</td>\n",
       "      <td>Comm&amp;Mgmt</td>\n",
       "      <td>No</td>\n",
       "      <td>96.8</td>\n",
       "      <td>Mkt&amp;Fin</td>\n",
       "      <td>55.50</td>\n",
       "      <td>Placed</td>\n",
       "      <td>425000.0</td>\n",
       "    </tr>\n",
       "  </tbody>\n",
       "</table>\n",
       "</div>"
      ],
      "text/plain": [
       "   sl_no gender  ssc_p    ssc_b  hsc_p    hsc_b     hsc_s  degree_p  \\\n",
       "0      1      M  67.00   Others  91.00   Others  Commerce     58.00   \n",
       "1      2      M  79.33  Central  78.33   Others   Science     77.48   \n",
       "2      3      M  65.00  Central  68.00  Central      Arts     64.00   \n",
       "3      4      M  56.00  Central  52.00  Central   Science     52.00   \n",
       "4      5      M  85.80  Central  73.60  Central  Commerce     73.30   \n",
       "\n",
       "    degree_t workex  etest_p specialisation  mba_p      status    salary  \n",
       "0   Sci&Tech     No     55.0         Mkt&HR  58.80      Placed  270000.0  \n",
       "1   Sci&Tech    Yes     86.5        Mkt&Fin  66.28      Placed  200000.0  \n",
       "2  Comm&Mgmt     No     75.0        Mkt&Fin  57.80      Placed  250000.0  \n",
       "3   Sci&Tech     No     66.0         Mkt&HR  59.43  Not Placed       NaN  \n",
       "4  Comm&Mgmt     No     96.8        Mkt&Fin  55.50      Placed  425000.0  "
      ]
     },
     "execution_count": 2,
     "metadata": {},
     "output_type": "execute_result"
    }
   ],
   "source": [
    "df = pd.read_excel('Placement_Data_Full_Class.xlsx')\n",
    "df.head()"
   ]
  },
  {
   "cell_type": "code",
   "execution_count": 3,
   "metadata": {},
   "outputs": [
    {
     "data": {
      "text/plain": [
       "(215, 15)"
      ]
     },
     "execution_count": 3,
     "metadata": {},
     "output_type": "execute_result"
    }
   ],
   "source": [
    "df.shape"
   ]
  },
  {
   "cell_type": "markdown",
   "metadata": {},
   "source": [
    "## Checking Null Values"
   ]
  },
  {
   "cell_type": "code",
   "execution_count": 4,
   "metadata": {},
   "outputs": [
    {
     "data": {
      "text/plain": [
       "sl_no              0\n",
       "gender             0\n",
       "ssc_p              0\n",
       "ssc_b              0\n",
       "hsc_p              0\n",
       "hsc_b              0\n",
       "hsc_s              0\n",
       "degree_p           0\n",
       "degree_t           0\n",
       "workex             0\n",
       "etest_p            0\n",
       "specialisation     0\n",
       "mba_p              0\n",
       "status             0\n",
       "salary            67\n",
       "dtype: int64"
      ]
     },
     "execution_count": 4,
     "metadata": {},
     "output_type": "execute_result"
    }
   ],
   "source": [
    "df.isnull().sum()"
   ]
  },
  {
   "cell_type": "markdown",
   "metadata": {},
   "source": [
    "Only Salary column has some null values for those students who were not placed. Anyways this column is not required to predict the placement status. Also, sl_no column is not required. Therefore, dropping both of them"
   ]
  },
  {
   "cell_type": "code",
   "execution_count": 5,
   "metadata": {},
   "outputs": [],
   "source": [
    "df.drop(columns=['sl_no','salary'], inplace = True)"
   ]
  },
  {
   "cell_type": "code",
   "execution_count": 6,
   "metadata": {},
   "outputs": [
    {
     "name": "stdout",
     "output_type": "stream",
     "text": [
      "<class 'pandas.core.frame.DataFrame'>\n",
      "RangeIndex: 215 entries, 0 to 214\n",
      "Data columns (total 13 columns):\n",
      "gender            215 non-null object\n",
      "ssc_p             215 non-null float64\n",
      "ssc_b             215 non-null object\n",
      "hsc_p             215 non-null float64\n",
      "hsc_b             215 non-null object\n",
      "hsc_s             215 non-null object\n",
      "degree_p          215 non-null float64\n",
      "degree_t          215 non-null object\n",
      "workex            215 non-null object\n",
      "etest_p           215 non-null float64\n",
      "specialisation    215 non-null object\n",
      "mba_p             215 non-null float64\n",
      "status            215 non-null object\n",
      "dtypes: float64(5), object(8)\n",
      "memory usage: 22.0+ KB\n"
     ]
    }
   ],
   "source": [
    "df.info()"
   ]
  },
  {
   "cell_type": "code",
   "execution_count": 7,
   "metadata": {},
   "outputs": [
    {
     "data": {
      "text/plain": [
       "array(['Sci&Tech', 'Comm&Mgmt', 'Others'], dtype=object)"
      ]
     },
     "execution_count": 7,
     "metadata": {},
     "output_type": "execute_result"
    }
   ],
   "source": [
    "df.degree_t.unique()"
   ]
  },
  {
   "cell_type": "code",
   "execution_count": 8,
   "metadata": {},
   "outputs": [
    {
     "data": {
      "text/plain": [
       "array(['Mkt&HR', 'Mkt&Fin'], dtype=object)"
      ]
     },
     "execution_count": 8,
     "metadata": {},
     "output_type": "execute_result"
    }
   ],
   "source": [
    "df.specialisation.unique()"
   ]
  },
  {
   "cell_type": "markdown",
   "metadata": {},
   "source": [
    "## Bivariate Categorical Analysis "
   ]
  },
  {
   "cell_type": "code",
   "execution_count": 9,
   "metadata": {},
   "outputs": [
    {
     "data": {
      "image/png": "[encoded data removed]",
      "text/plain": [
       "<Figure size 1152x720 with 8 Axes>"
      ]
     },
     "metadata": {
      "needs_background": "light"
     },
     "output_type": "display_data"
    }
   ],
   "source": [
    "fig, ax = plt.subplots(2,4, figsize=(16,10))\n",
    "\n",
    "sns.countplot(data = df, x = 'gender', hue = 'status', ax=ax[0,0])\n",
    "sns.countplot(data = df, x = 'ssc_b', hue = 'status', ax=ax[0,1])\n",
    "sns.countplot(data = df, x = 'hsc_b', hue = 'status', ax=ax[0,2])\n",
    "sns.countplot(data = df, x = 'hsc_s', hue = 'status', ax=ax[0,3])\n",
    "sns.countplot(data = df, x = 'degree_t', hue = 'status', ax=ax[1,1])\n",
    "sns.countplot(data = df, x = 'workex', hue = 'status', ax=ax[1,2])\n",
    "sns.countplot(data = df, x = 'specialisation', hue = 'status', ax=ax[1,0])\n",
    "plt.show()"
   ]
  },
  {
   "cell_type": "markdown",
   "metadata": {},
   "source": [
    "1. From the graphs above, we can say that around 100 students are placed from commerce background\n",
    "2. Also, Specialisation in marketing and finance helped students in getting placed\n",
    "3. Students having workex are mostly placed."
   ]
  },
  {
   "cell_type": "markdown",
   "metadata": {},
   "source": [
    "## Analysis of Status of Placement on the basis of percentage scored in different examinations "
   ]
  },
  {
   "cell_type": "code",
   "execution_count": 10,
   "metadata": {},
   "outputs": [
    {
     "data": {
      "image/png": "[encoded data removed]",
      "text/plain": [
       "<Figure size 432x288 with 1 Axes>"
      ]
     },
     "metadata": {
      "needs_background": "light"
     },
     "output_type": "display_data"
    }
   ],
   "source": [
    "sns.scatterplot(x='ssc_p', y='status', data=df)\n",
    "plt.show()"
   ]
  },
  {
   "cell_type": "code",
   "execution_count": 11,
   "metadata": {},
   "outputs": [
    {
     "data": {
      "image/png": "[encoded data removed]",
      "text/plain": [
       "<Figure size 432x288 with 1 Axes>"
      ]
     },
     "metadata": {
      "needs_background": "light"
     },
     "output_type": "display_data"
    }
   ],
   "source": [
    "sns.scatterplot(x='hsc_p', y='status', data=df)\n",
    "plt.show()"
   ]
  },
  {
   "cell_type": "markdown",
   "metadata": {},
   "source": [
    "From above ssc_p and hsc_p graphs, we can say that Students having more than 80% surely got placed, while below 50% surely didn't get placed"
   ]
  },
  {
   "cell_type": "code",
   "execution_count": 12,
   "metadata": {},
   "outputs": [
    {
     "data": {
      "image/png": "[encoded data removed]",
      "text/plain": [
       "<Figure size 432x288 with 1 Axes>"
      ]
     },
     "metadata": {
      "needs_background": "light"
     },
     "output_type": "display_data"
    }
   ],
   "source": [
    "sns.scatterplot(x='degree_p', y='status', data=df)\n",
    "plt.show()"
   ]
  },
  {
   "cell_type": "markdown",
   "metadata": {},
   "source": [
    "In degree program students having less than 55% surely didn't get placed whereas having more that 80% surely got placed."
   ]
  },
  {
   "cell_type": "markdown",
   "metadata": {},
   "source": [
    "## Checking correlation among features "
   ]
  },
  {
   "cell_type": "code",
   "execution_count": 13,
   "metadata": {},
   "outputs": [
    {
     "data": {
      "text/html": [
       "<div>\n",
       "<style scoped>\n",
       "    .dataframe tbody tr th:only-of-type {\n",
       "        vertical-align: middle;\n",
       "    }\n",
       "\n",
       "    .dataframe tbody tr th {\n",
       "        vertical-align: top;\n",
       "    }\n",
       "\n",
       "    .dataframe thead th {\n",
       "        text-align: right;\n",
       "    }\n",
       "</style>\n",
       "<table border=\"1\" class=\"dataframe\">\n",
       "  <thead>\n",
       "    <tr style=\"text-align: right;\">\n",
       "      <th></th>\n",
       "      <th>ssc_p</th>\n",
       "      <th>hsc_p</th>\n",
       "      <th>degree_p</th>\n",
       "      <th>etest_p</th>\n",
       "      <th>mba_p</th>\n",
       "    </tr>\n",
       "  </thead>\n",
       "  <tbody>\n",
       "    <tr>\n",
       "      <td>ssc_p</td>\n",
       "      <td>1.000000</td>\n",
       "      <td>0.511472</td>\n",
       "      <td>0.538404</td>\n",
       "      <td>0.261993</td>\n",
       "      <td>0.388478</td>\n",
       "    </tr>\n",
       "    <tr>\n",
       "      <td>hsc_p</td>\n",
       "      <td>0.511472</td>\n",
       "      <td>1.000000</td>\n",
       "      <td>0.434206</td>\n",
       "      <td>0.245113</td>\n",
       "      <td>0.354823</td>\n",
       "    </tr>\n",
       "    <tr>\n",
       "      <td>degree_p</td>\n",
       "      <td>0.538404</td>\n",
       "      <td>0.434206</td>\n",
       "      <td>1.000000</td>\n",
       "      <td>0.224470</td>\n",
       "      <td>0.402364</td>\n",
       "    </tr>\n",
       "    <tr>\n",
       "      <td>etest_p</td>\n",
       "      <td>0.261993</td>\n",
       "      <td>0.245113</td>\n",
       "      <td>0.224470</td>\n",
       "      <td>1.000000</td>\n",
       "      <td>0.218055</td>\n",
       "    </tr>\n",
       "    <tr>\n",
       "      <td>mba_p</td>\n",
       "      <td>0.388478</td>\n",
       "      <td>0.354823</td>\n",
       "      <td>0.402364</td>\n",
       "      <td>0.218055</td>\n",
       "      <td>1.000000</td>\n",
       "    </tr>\n",
       "  </tbody>\n",
       "</table>\n",
       "</div>"
      ],
      "text/plain": [
       "             ssc_p     hsc_p  degree_p   etest_p     mba_p\n",
       "ssc_p     1.000000  0.511472  0.538404  0.261993  0.388478\n",
       "hsc_p     0.511472  1.000000  0.434206  0.245113  0.354823\n",
       "degree_p  0.538404  0.434206  1.000000  0.224470  0.402364\n",
       "etest_p   0.261993  0.245113  0.224470  1.000000  0.218055\n",
       "mba_p     0.388478  0.354823  0.402364  0.218055  1.000000"
      ]
     },
     "execution_count": 13,
     "metadata": {},
     "output_type": "execute_result"
    }
   ],
   "source": [
    "df.corr()"
   ]
  },
  {
   "cell_type": "code",
   "execution_count": 14,
   "metadata": {},
   "outputs": [
    {
     "data": {
      "image/png": "[encoded data removed]",
      "text/plain": [
       "<Figure size 432x288 with 2 Axes>"
      ]
     },
     "metadata": {
      "needs_background": "light"
     },
     "output_type": "display_data"
    }
   ],
   "source": [
    "ax = sns.heatmap(df.corr(), annot=True)\n",
    "bottom, top = ax.get_ylim()\n",
    "ax.set_ylim(bottom + 0.5, top - 0.5)\n",
    "plt.show()"
   ]
  },
  {
   "cell_type": "markdown",
   "metadata": {},
   "source": [
    "## Hypothesis Testing for Feature Engineering \n",
    "\n",
    "### Chi Square test for independence"
   ]
  },
  {
   "cell_type": "code",
   "execution_count": 15,
   "metadata": {},
   "outputs": [],
   "source": [
    "def testing(feature): \n",
    "    table = pd.crosstab(feature, df.status)\n",
    "    statistic, Pvalue, dof, array = stats.chi2_contingency(table)\n",
    "    print(\" Pvalue\", Pvalue)\n",
    "    print(\" test statistic\", statistic)\n",
    "    print(\" degree of freedom\", dof)\n",
    "\n",
    "    if(Pvalue < 0.05):\n",
    "        print(\"Reject the null hypothesis meaning Placement is dependent on this feature\")\n",
    "    else:\n",
    "        print(\"We fail to reject null hypothesis meaning, Placement is independent of this feature\")"
   ]
  },
  {
   "cell_type": "markdown",
   "metadata": {},
   "source": [
    "### Is Placement dependent on the Gender?\n",
    "\n",
    "H0 : Placement is independent of the Gender\n",
    "\n",
    "H1 : Alternate of null hypothesis\n",
    "\n",
    "Alpha : 0.05"
   ]
  },
  {
   "cell_type": "code",
   "execution_count": 16,
   "metadata": {},
   "outputs": [
    {
     "name": "stdout",
     "output_type": "stream",
     "text": [
      " Pvalue 0.23980260881037566\n",
      " test statistic 1.3817539668505108\n",
      " degree of freedom 1\n",
      "We fail to reject null hypothesis meaning, Placement is independent of this feature\n"
     ]
    }
   ],
   "source": [
    "testing(df.gender)"
   ]
  },
  {
   "cell_type": "markdown",
   "metadata": {},
   "source": [
    "### Is Placement dependent on the workex?\n",
    "\n",
    "H0 : Placement is independent of the workex\n",
    "\n",
    "H1 : Alternate of null hypothesis\n",
    "\n",
    "Alpha : 0.05"
   ]
  },
  {
   "cell_type": "code",
   "execution_count": 17,
   "metadata": {},
   "outputs": [
    {
     "name": "stdout",
     "output_type": "stream",
     "text": [
      " Pvalue 9.906584720516494e-05\n",
      " test statistic 15.154425347637423\n",
      " degree of freedom 1\n",
      "Reject the null hypothesis meaning Placement is dependent on this feature\n"
     ]
    }
   ],
   "source": [
    "testing(df.workex)"
   ]
  },
  {
   "cell_type": "markdown",
   "metadata": {},
   "source": [
    "### Is Placement dependent on the SSC board?\n",
    "\n",
    "H0 : Placement is independent of the SSC board\n",
    "\n",
    "H1 : Alternate of null hypothesis\n",
    "\n",
    "Alpha : 0.05"
   ]
  },
  {
   "cell_type": "code",
   "execution_count": 18,
   "metadata": {},
   "outputs": [
    {
     "name": "stdout",
     "output_type": "stream",
     "text": [
      " Pvalue 0.6897729431530739\n",
      " test statistic 0.15933127499487468\n",
      " degree of freedom 1\n",
      "We fail to reject null hypothesis meaning, Placement is independent of this feature\n"
     ]
    }
   ],
   "source": [
    "testing(df.ssc_b)"
   ]
  },
  {
   "cell_type": "markdown",
   "metadata": {},
   "source": [
    "### Is Placement dependent on the HSC board?\n",
    "\n",
    "H0 : Placement is independent of the HSC board\n",
    "\n",
    "H1 : Alternate of null hypothesis\n",
    "\n",
    "Alpha : 0.05"
   ]
  },
  {
   "cell_type": "code",
   "execution_count": 19,
   "metadata": {},
   "outputs": [
    {
     "name": "stdout",
     "output_type": "stream",
     "text": [
      " Pvalue 0.9222837052885\n",
      " test statistic 0.009517458006762429\n",
      " degree of freedom 1\n",
      "We fail to reject null hypothesis meaning, Placement is independent of this feature\n"
     ]
    }
   ],
   "source": [
    "testing(df.hsc_b)"
   ]
  },
  {
   "cell_type": "markdown",
   "metadata": {},
   "source": [
    "### Is Placement dependent on the HSC Specialisation?\n",
    "\n",
    "H0 : Placement is independent of the HSC specialisation\n",
    "\n",
    "H1 : Alternate of null hypothesis\n",
    "\n",
    "Alpha : 0.05"
   ]
  },
  {
   "cell_type": "code",
   "execution_count": 20,
   "metadata": {},
   "outputs": [
    {
     "name": "stdout",
     "output_type": "stream",
     "text": [
      " Pvalue 0.5727118511343621\n",
      " test statistic 1.114745132708414\n",
      " degree of freedom 2\n",
      "We fail to reject null hypothesis meaning, Placement is independent of this feature\n"
     ]
    }
   ],
   "source": [
    "testing(df.hsc_s)"
   ]
  },
  {
   "cell_type": "markdown",
   "metadata": {},
   "source": [
    "### Is Placement dependent on the UG Degree type?\n",
    "\n",
    "H0 : Placement is independent of the UG Degree type\n",
    "\n",
    "H1 : Alternate of null hypothesis\n",
    "\n",
    "Alpha : 0.05"
   ]
  },
  {
   "cell_type": "code",
   "execution_count": 21,
   "metadata": {},
   "outputs": [
    {
     "name": "stdout",
     "output_type": "stream",
     "text": [
      " Pvalue 0.22661076190356658\n",
      " test statistic 2.9690428771222925\n",
      " degree of freedom 2\n",
      "We fail to reject null hypothesis meaning, Placement is independent of this feature\n"
     ]
    }
   ],
   "source": [
    "testing(df.degree_t)"
   ]
  },
  {
   "cell_type": "markdown",
   "metadata": {},
   "source": [
    "### Is Placement dependent on the UG Degree Specialisation?\n",
    "\n",
    "H0 : Placement is independent of the UG Degree specialisation\n",
    "\n",
    "H1 : Alternate of null hypothesis\n",
    "\n",
    "Alpha : 0.05"
   ]
  },
  {
   "cell_type": "code",
   "execution_count": 22,
   "metadata": {},
   "outputs": [
    {
     "name": "stdout",
     "output_type": "stream",
     "text": [
      " Pvalue 0.00042018425858864284\n",
      " test statistic 12.440229009203623\n",
      " degree of freedom 1\n",
      "Reject the null hypothesis meaning Placement is dependent on this feature\n"
     ]
    }
   ],
   "source": [
    "testing(df.specialisation)"
   ]
  },
  {
   "cell_type": "markdown",
   "metadata": {},
   "source": [
    "#### From above Hypothesis testing, we can say that Placement of a student is only dependent on Specialisation in UG Degree and Work experience of a student\n",
    "\n",
    "\n",
    "### Anova test"
   ]
  },
  {
   "cell_type": "code",
   "execution_count": 23,
   "metadata": {},
   "outputs": [
    {
     "name": "stdout",
     "output_type": "stream",
     "text": [
      "             df     sum_sq    mean_sq           F        PR(>F)\n",
      "ssc_p       1.0  17.043008  17.043008  154.358483  6.679646e-27\n",
      "hsc_p       1.0   2.030707   2.030707   18.392110  2.746636e-05\n",
      "degree_p    1.0   0.883414   0.883414    8.001080  5.130014e-03\n",
      "etest_p     1.0   0.239874   0.239874    2.172539  1.419987e-01\n",
      "mba_p       1.0   2.847847   2.847847   25.792945  8.400591e-07\n",
      "Residual  209.0  23.076080   0.110412         NaN           NaN\n"
     ]
    }
   ],
   "source": [
    "import statsmodels.api as sm\n",
    "from statsmodels.formula.api import ols\n",
    "df = pd.get_dummies(data = df, columns = ['status'], drop_first = True)\n",
    "\n",
    "model = ols(\"status_Placed~ssc_p+hsc_p+degree_p+etest_p+mba_p\", data = df).fit()\n",
    "table = sm.stats.anova_lm(model)\n",
    "print(table)"
   ]
  },
  {
   "cell_type": "markdown",
   "metadata": {},
   "source": [
    "#### From the Anova test, we can say that all the features are significant in determining the Placement except for the \"etest_p\""
   ]
  },
  {
   "cell_type": "markdown",
   "metadata": {},
   "source": [
    "## Modelling, keeping all the Features"
   ]
  },
  {
   "cell_type": "code",
   "execution_count": 24,
   "metadata": {},
   "outputs": [],
   "source": [
    "columns = ['gender','ssc_b','hsc_b','hsc_s','specialisation','degree_t','workex']\n",
    "data = pd.get_dummies(data = df, columns = columns, drop_first = True)"
   ]
  },
  {
   "cell_type": "code",
   "execution_count": 25,
   "metadata": {},
   "outputs": [
    {
     "data": {
      "text/html": [
       "<div>\n",
       "<style scoped>\n",
       "    .dataframe tbody tr th:only-of-type {\n",
       "        vertical-align: middle;\n",
       "    }\n",
       "\n",
       "    .dataframe tbody tr th {\n",
       "        vertical-align: top;\n",
       "    }\n",
       "\n",
       "    .dataframe thead th {\n",
       "        text-align: right;\n",
       "    }\n",
       "</style>\n",
       "<table border=\"1\" class=\"dataframe\">\n",
       "  <thead>\n",
       "    <tr style=\"text-align: right;\">\n",
       "      <th></th>\n",
       "      <th>ssc_p</th>\n",
       "      <th>hsc_p</th>\n",
       "      <th>degree_p</th>\n",
       "      <th>etest_p</th>\n",
       "      <th>mba_p</th>\n",
       "      <th>status_Placed</th>\n",
       "      <th>gender_M</th>\n",
       "      <th>ssc_b_Others</th>\n",
       "      <th>hsc_b_Others</th>\n",
       "      <th>hsc_s_Commerce</th>\n",
       "      <th>hsc_s_Science</th>\n",
       "      <th>specialisation_Mkt&amp;HR</th>\n",
       "      <th>degree_t_Others</th>\n",
       "      <th>degree_t_Sci&amp;Tech</th>\n",
       "      <th>workex_Yes</th>\n",
       "    </tr>\n",
       "  </thead>\n",
       "  <tbody>\n",
       "    <tr>\n",
       "      <td>0</td>\n",
       "      <td>67.00</td>\n",
       "      <td>91.00</td>\n",
       "      <td>58.00</td>\n",
       "      <td>55.0</td>\n",
       "      <td>58.80</td>\n",
       "      <td>1</td>\n",
       "      <td>1</td>\n",
       "      <td>1</td>\n",
       "      <td>1</td>\n",
       "      <td>1</td>\n",
       "      <td>0</td>\n",
       "      <td>1</td>\n",
       "      <td>0</td>\n",
       "      <td>1</td>\n",
       "      <td>0</td>\n",
       "    </tr>\n",
       "    <tr>\n",
       "      <td>1</td>\n",
       "      <td>79.33</td>\n",
       "      <td>78.33</td>\n",
       "      <td>77.48</td>\n",
       "      <td>86.5</td>\n",
       "      <td>66.28</td>\n",
       "      <td>1</td>\n",
       "      <td>1</td>\n",
       "      <td>0</td>\n",
       "      <td>1</td>\n",
       "      <td>0</td>\n",
       "      <td>1</td>\n",
       "      <td>0</td>\n",
       "      <td>0</td>\n",
       "      <td>1</td>\n",
       "      <td>1</td>\n",
       "    </tr>\n",
       "    <tr>\n",
       "      <td>2</td>\n",
       "      <td>65.00</td>\n",
       "      <td>68.00</td>\n",
       "      <td>64.00</td>\n",
       "      <td>75.0</td>\n",
       "      <td>57.80</td>\n",
       "      <td>1</td>\n",
       "      <td>1</td>\n",
       "      <td>0</td>\n",
       "      <td>0</td>\n",
       "      <td>0</td>\n",
       "      <td>0</td>\n",
       "      <td>0</td>\n",
       "      <td>0</td>\n",
       "      <td>0</td>\n",
       "      <td>0</td>\n",
       "    </tr>\n",
       "    <tr>\n",
       "      <td>3</td>\n",
       "      <td>56.00</td>\n",
       "      <td>52.00</td>\n",
       "      <td>52.00</td>\n",
       "      <td>66.0</td>\n",
       "      <td>59.43</td>\n",
       "      <td>0</td>\n",
       "      <td>1</td>\n",
       "      <td>0</td>\n",
       "      <td>0</td>\n",
       "      <td>0</td>\n",
       "      <td>1</td>\n",
       "      <td>1</td>\n",
       "      <td>0</td>\n",
       "      <td>1</td>\n",
       "      <td>0</td>\n",
       "    </tr>\n",
       "    <tr>\n",
       "      <td>4</td>\n",
       "      <td>85.80</td>\n",
       "      <td>73.60</td>\n",
       "      <td>73.30</td>\n",
       "      <td>96.8</td>\n",
       "      <td>55.50</td>\n",
       "      <td>1</td>\n",
       "      <td>1</td>\n",
       "      <td>0</td>\n",
       "      <td>0</td>\n",
       "      <td>1</td>\n",
       "      <td>0</td>\n",
       "      <td>0</td>\n",
       "      <td>0</td>\n",
       "      <td>0</td>\n",
       "      <td>0</td>\n",
       "    </tr>\n",
       "  </tbody>\n",
       "</table>\n",
       "</div>"
      ],
      "text/plain": [
       "   ssc_p  hsc_p  degree_p  etest_p  mba_p  status_Placed  gender_M  \\\n",
       "0  67.00  91.00     58.00     55.0  58.80              1         1   \n",
       "1  79.33  78.33     77.48     86.5  66.28              1         1   \n",
       "2  65.00  68.00     64.00     75.0  57.80              1         1   \n",
       "3  56.00  52.00     52.00     66.0  59.43              0         1   \n",
       "4  85.80  73.60     73.30     96.8  55.50              1         1   \n",
       "\n",
       "   ssc_b_Others  hsc_b_Others  hsc_s_Commerce  hsc_s_Science  \\\n",
       "0             1             1               1              0   \n",
       "1             0             1               0              1   \n",
       "2             0             0               0              0   \n",
       "3             0             0               0              1   \n",
       "4             0             0               1              0   \n",
       "\n",
       "   specialisation_Mkt&HR  degree_t_Others  degree_t_Sci&Tech  workex_Yes  \n",
       "0                      1                0                  1           0  \n",
       "1                      0                0                  1           1  \n",
       "2                      0                0                  0           0  \n",
       "3                      1                0                  1           0  \n",
       "4                      0                0                  0           0  "
      ]
     },
     "execution_count": 25,
     "metadata": {},
     "output_type": "execute_result"
    }
   ],
   "source": [
    "data.head()"
   ]
  },
  {
   "cell_type": "code",
   "execution_count": 26,
   "metadata": {},
   "outputs": [],
   "source": [
    "X = data.drop(columns = 'status_Placed')\n",
    "Y = data['status_Placed']"
   ]
  },
  {
   "cell_type": "code",
   "execution_count": 27,
   "metadata": {},
   "outputs": [],
   "source": [
    "from sklearn.model_selection import train_test_split\n",
    "X_train, X_test, Y_train, Y_test = train_test_split(X, Y, test_size = 0.2)"
   ]
  },
  {
   "cell_type": "code",
   "execution_count": 28,
   "metadata": {},
   "outputs": [],
   "source": [
    "from sklearn.tree import DecisionTreeClassifier\n",
    "from sklearn.ensemble import RandomForestClassifier\n",
    "from sklearn.metrics import confusion_matrix, accuracy_score"
   ]
  },
  {
   "cell_type": "markdown",
   "metadata": {},
   "source": [
    "## Decision Tree"
   ]
  },
  {
   "cell_type": "code",
   "execution_count": 29,
   "metadata": {},
   "outputs": [
    {
     "data": {
      "text/plain": [
       "DecisionTreeClassifier(class_weight=None, criterion='gini', max_depth=None,\n",
       "                       max_features=None, max_leaf_nodes=None,\n",
       "                       min_impurity_decrease=0.0, min_impurity_split=None,\n",
       "                       min_samples_leaf=1, min_samples_split=2,\n",
       "                       min_weight_fraction_leaf=0.0, presort=False,\n",
       "                       random_state=None, splitter='best')"
      ]
     },
     "execution_count": 29,
     "metadata": {},
     "output_type": "execute_result"
    }
   ],
   "source": [
    "dt = DecisionTreeClassifier()\n",
    "dt.fit(X_train, Y_train)"
   ]
  },
  {
   "cell_type": "code",
   "execution_count": 30,
   "metadata": {},
   "outputs": [],
   "source": [
    "pred1 = dt.predict(X_test)"
   ]
  },
  {
   "cell_type": "code",
   "execution_count": 31,
   "metadata": {},
   "outputs": [
    {
     "name": "stdout",
     "output_type": "stream",
     "text": [
      "accuracy 0.8604651162790697\n",
      "[[ 6  0]\n",
      " [ 6 31]]\n"
     ]
    }
   ],
   "source": [
    "print(\"accuracy\",accuracy_score(pred1, Y_test))\n",
    "print(confusion_matrix(pred1, Y_test))"
   ]
  },
  {
   "cell_type": "markdown",
   "metadata": {},
   "source": [
    "## Random Forest"
   ]
  },
  {
   "cell_type": "code",
   "execution_count": 32,
   "metadata": {},
   "outputs": [
    {
     "name": "stderr",
     "output_type": "stream",
     "text": [
      "C:\\Users\\Win\\Anaconda3\\lib\\site-packages\\sklearn\\ensemble\\forest.py:245: FutureWarning: The default value of n_estimators will change from 10 in version 0.20 to 100 in 0.22.\n",
      "  \"10 in version 0.20 to 100 in 0.22.\", FutureWarning)\n"
     ]
    },
    {
     "data": {
      "text/plain": [
       "RandomForestClassifier(bootstrap=True, class_weight=None, criterion='gini',\n",
       "                       max_depth=None, max_features='auto', max_leaf_nodes=None,\n",
       "                       min_impurity_decrease=0.0, min_impurity_split=None,\n",
       "                       min_samples_leaf=1, min_samples_split=2,\n",
       "                       min_weight_fraction_leaf=0.0, n_estimators=10,\n",
       "                       n_jobs=None, oob_score=False, random_state=None,\n",
       "                       verbose=0, warm_start=False)"
      ]
     },
     "execution_count": 32,
     "metadata": {},
     "output_type": "execute_result"
    }
   ],
   "source": [
    "rf = RandomForestClassifier()\n",
    "rf.fit(X_train, Y_train)"
   ]
  },
  {
   "cell_type": "code",
   "execution_count": 33,
   "metadata": {},
   "outputs": [],
   "source": [
    "pred2 = rf.predict(X_test)"
   ]
  },
  {
   "cell_type": "code",
   "execution_count": 34,
   "metadata": {},
   "outputs": [
    {
     "name": "stdout",
     "output_type": "stream",
     "text": [
      "accuracy 0.8837209302325582\n",
      "[[ 9  2]\n",
      " [ 3 29]]\n"
     ]
    }
   ],
   "source": [
    "print(\"accuracy\", accuracy_score(pred2, Y_test))\n",
    "print(confusion_matrix(pred2, Y_test))"
   ]
  },
  {
   "cell_type": "markdown",
   "metadata": {},
   "source": [
    "## Modelling after dropping insignificant features"
   ]
  },
  {
   "cell_type": "code",
   "execution_count": 35,
   "metadata": {},
   "outputs": [
    {
     "data": {
      "text/html": [
       "<div>\n",
       "<style scoped>\n",
       "    .dataframe tbody tr th:only-of-type {\n",
       "        vertical-align: middle;\n",
       "    }\n",
       "\n",
       "    .dataframe tbody tr th {\n",
       "        vertical-align: top;\n",
       "    }\n",
       "\n",
       "    .dataframe thead th {\n",
       "        text-align: right;\n",
       "    }\n",
       "</style>\n",
       "<table border=\"1\" class=\"dataframe\">\n",
       "  <thead>\n",
       "    <tr style=\"text-align: right;\">\n",
       "      <th></th>\n",
       "      <th>ssc_p</th>\n",
       "      <th>hsc_p</th>\n",
       "      <th>degree_p</th>\n",
       "      <th>mba_p</th>\n",
       "      <th>status_Placed</th>\n",
       "      <th>specialisation_Mkt&amp;HR</th>\n",
       "      <th>workex_Yes</th>\n",
       "    </tr>\n",
       "  </thead>\n",
       "  <tbody>\n",
       "    <tr>\n",
       "      <td>0</td>\n",
       "      <td>67.00</td>\n",
       "      <td>91.00</td>\n",
       "      <td>58.00</td>\n",
       "      <td>58.80</td>\n",
       "      <td>1</td>\n",
       "      <td>1</td>\n",
       "      <td>0</td>\n",
       "    </tr>\n",
       "    <tr>\n",
       "      <td>1</td>\n",
       "      <td>79.33</td>\n",
       "      <td>78.33</td>\n",
       "      <td>77.48</td>\n",
       "      <td>66.28</td>\n",
       "      <td>1</td>\n",
       "      <td>0</td>\n",
       "      <td>1</td>\n",
       "    </tr>\n",
       "    <tr>\n",
       "      <td>2</td>\n",
       "      <td>65.00</td>\n",
       "      <td>68.00</td>\n",
       "      <td>64.00</td>\n",
       "      <td>57.80</td>\n",
       "      <td>1</td>\n",
       "      <td>0</td>\n",
       "      <td>0</td>\n",
       "    </tr>\n",
       "    <tr>\n",
       "      <td>3</td>\n",
       "      <td>56.00</td>\n",
       "      <td>52.00</td>\n",
       "      <td>52.00</td>\n",
       "      <td>59.43</td>\n",
       "      <td>0</td>\n",
       "      <td>1</td>\n",
       "      <td>0</td>\n",
       "    </tr>\n",
       "    <tr>\n",
       "      <td>4</td>\n",
       "      <td>85.80</td>\n",
       "      <td>73.60</td>\n",
       "      <td>73.30</td>\n",
       "      <td>55.50</td>\n",
       "      <td>1</td>\n",
       "      <td>0</td>\n",
       "      <td>0</td>\n",
       "    </tr>\n",
       "  </tbody>\n",
       "</table>\n",
       "</div>"
      ],
      "text/plain": [
       "   ssc_p  hsc_p  degree_p  mba_p  status_Placed  specialisation_Mkt&HR  \\\n",
       "0  67.00  91.00     58.00  58.80              1                      1   \n",
       "1  79.33  78.33     77.48  66.28              1                      0   \n",
       "2  65.00  68.00     64.00  57.80              1                      0   \n",
       "3  56.00  52.00     52.00  59.43              0                      1   \n",
       "4  85.80  73.60     73.30  55.50              1                      0   \n",
       "\n",
       "   workex_Yes  \n",
       "0           0  \n",
       "1           1  \n",
       "2           0  \n",
       "3           0  \n",
       "4           0  "
      ]
     },
     "execution_count": 35,
     "metadata": {},
     "output_type": "execute_result"
    }
   ],
   "source": [
    "columns = ['specialisation','workex']\n",
    "data_new = pd.get_dummies(data = df, columns = columns, drop_first = True)\n",
    "data_new.drop(columns = ['gender','ssc_b','hsc_b','hsc_s','degree_t', 'etest_p'], inplace = True)\n",
    "\n",
    "data_new.head()"
   ]
  },
  {
   "cell_type": "code",
   "execution_count": 36,
   "metadata": {},
   "outputs": [],
   "source": [
    "X_new = data_new.drop(columns = 'status_Placed')\n",
    "Y_new = data_new['status_Placed']"
   ]
  },
  {
   "cell_type": "code",
   "execution_count": 37,
   "metadata": {},
   "outputs": [],
   "source": [
    "from sklearn.model_selection import train_test_split\n",
    "X_newtrain, X_newtest, Y_newtrain, Y_newtest = train_test_split(X_new, Y_new, test_size = 0.2)"
   ]
  },
  {
   "cell_type": "markdown",
   "metadata": {},
   "source": [
    "## Decision Tree"
   ]
  },
  {
   "cell_type": "code",
   "execution_count": 38,
   "metadata": {},
   "outputs": [
    {
     "data": {
      "text/plain": [
       "DecisionTreeClassifier(class_weight=None, criterion='gini', max_depth=None,\n",
       "                       max_features=None, max_leaf_nodes=None,\n",
       "                       min_impurity_decrease=0.0, min_impurity_split=None,\n",
       "                       min_samples_leaf=1, min_samples_split=2,\n",
       "                       min_weight_fraction_leaf=0.0, presort=False,\n",
       "                       random_state=None, splitter='best')"
      ]
     },
     "execution_count": 38,
     "metadata": {},
     "output_type": "execute_result"
    }
   ],
   "source": [
    "dt_new = DecisionTreeClassifier()\n",
    "dt_new.fit(X_newtrain, Y_newtrain)"
   ]
  },
  {
   "cell_type": "code",
   "execution_count": 39,
   "metadata": {},
   "outputs": [],
   "source": [
    "pred3 = dt_new.predict(X_newtest)"
   ]
  },
  {
   "cell_type": "code",
   "execution_count": 40,
   "metadata": {},
   "outputs": [
    {
     "name": "stdout",
     "output_type": "stream",
     "text": [
      "accuracy 0.8372093023255814\n",
      "[[10  2]\n",
      " [ 5 26]]\n"
     ]
    }
   ],
   "source": [
    "print(\"accuracy\",accuracy_score(pred3, Y_newtest))\n",
    "print(confusion_matrix(pred3, Y_newtest))"
   ]
  },
  {
   "cell_type": "markdown",
   "metadata": {},
   "source": [
    "## Random Forest"
   ]
  },
  {
   "cell_type": "code",
   "execution_count": 41,
   "metadata": {},
   "outputs": [
    {
     "name": "stderr",
     "output_type": "stream",
     "text": [
      "C:\\Users\\Win\\Anaconda3\\lib\\site-packages\\sklearn\\ensemble\\forest.py:245: FutureWarning: The default value of n_estimators will change from 10 in version 0.20 to 100 in 0.22.\n",
      "  \"10 in version 0.20 to 100 in 0.22.\", FutureWarning)\n"
     ]
    },
    {
     "data": {
      "text/plain": [
       "RandomForestClassifier(bootstrap=True, class_weight=None, criterion='gini',\n",
       "                       max_depth=None, max_features='auto', max_leaf_nodes=None,\n",
       "                       min_impurity_decrease=0.0, min_impurity_split=None,\n",
       "                       min_samples_leaf=1, min_samples_split=2,\n",
       "                       min_weight_fraction_leaf=0.0, n_estimators=10,\n",
       "                       n_jobs=None, oob_score=False, random_state=None,\n",
       "                       verbose=0, warm_start=False)"
      ]
     },
     "execution_count": 41,
     "metadata": {},
     "output_type": "execute_result"
    }
   ],
   "source": [
    "rf_new = RandomForestClassifier()\n",
    "rf_new.fit(X_newtrain, Y_newtrain)"
   ]
  },
  {
   "cell_type": "code",
   "execution_count": 42,
   "metadata": {},
   "outputs": [],
   "source": [
    "pred_new = rf_new.predict(X_newtest)"
   ]
  },
  {
   "cell_type": "code",
   "execution_count": 43,
   "metadata": {},
   "outputs": [
    {
     "name": "stdout",
     "output_type": "stream",
     "text": [
      "accuracy 0.7906976744186046\n",
      "[[10  4]\n",
      " [ 5 24]]\n"
     ]
    }
   ],
   "source": [
    "print(\"accuracy\",accuracy_score(pred_new, Y_newtest))\n",
    "print(confusion_matrix(pred_new, Y_newtest))"
   ]
  }
 ],
 "metadata": {
  "kernelspec": {
   "display_name": "Python 3",
   "language": "python",
   "name": "python3"
  },
  "language_info": {
   "codemirror_mode": {
    "name": "ipython",
    "version": 3
   },
   "file_extension": ".py",
   "mimetype": "text/x-python",
   "name": "python",
   "nbconvert_exporter": "python",
   "pygments_lexer": "ipython3",
   "version": "3.7.4"
  }
 },
 "nbformat": 4,
 "nbformat_minor": 2
}
